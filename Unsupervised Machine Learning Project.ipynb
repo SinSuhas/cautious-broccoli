{
 "cells": [
  {
   "cell_type": "markdown",
   "metadata": {},
   "source": [
    "# Unsupervised Machine Learning - Final Project \n",
    "*MSDS - CU Boulder*\n",
    "\n",
    "Github Repo : https://github.com/SinSuhas/cautious-broccoli"
   ]
  },
  {
   "cell_type": "markdown",
   "metadata": {},
   "source": [
    "### Problem Statement: \n",
    "Given a URL, detect if URL is 'Malicious' or 'Benign'\n",
    "\n",
    "Method: Using Clustering algorithms and Semi-Supervised learning approaches\n",
    "\n",
    "### Approach:\n",
    "1. Acquire a dataset with malicious and benign URL examples\n",
    "2. Clean the dataset, Extract useful features\n",
    "3. Use Unsupervised Learning approach to train a model for clustering.\n",
    "4. Optimise the model for better accuracy.\n",
    "5. Evaluate the model performance.\n",
    "5. Explore techniques to improve the performance of models used.\n",
    "\n"
   ]
  },
  {
   "cell_type": "markdown",
   "metadata": {},
   "source": [
    "### Dataset Information\n",
    " This dataset is taken from Kaggel : https://www.kaggle.com/datasets/siddharthkumar25/malicious-and-benign-urls\n",
    " \n",
    " ![alt text](image.png)\n"
   ]
  },
  {
   "cell_type": "markdown",
   "metadata": {},
   "source": [
    "Since the dataset is imbalnced (we have more examples of Malicious and less of Benign), we can expect some performance degradation of machine learning algorithms"
   ]
  },
  {
   "cell_type": "code",
   "execution_count": 1,
   "metadata": {},
   "outputs": [
    {
     "data": {
      "text/plain": [
       "array([0, 1], dtype=int64)"
      ]
     },
     "execution_count": 1,
     "metadata": {},
     "output_type": "execute_result"
    }
   ],
   "source": [
    "import pandas as pd\n",
    "import numpy as np\n",
    "import skimpy\n",
    "df=pd.read_csv('d:/Sindhu/CUB/MSDS_CUB/Machine Learning/Unsupervised Learning/Final Project/Project Files/urldata.csv')\n",
    "df['result'].unique()"
   ]
  },
  {
   "cell_type": "code",
   "execution_count": 2,
   "metadata": {},
   "outputs": [
    {
     "data": {
      "text/html": [
       "<pre style=\"white-space:pre;overflow-x:auto;line-height:normal;font-family:Menlo,'DejaVu Sans Mono',consolas,'Courier New',monospace\">╭──────────────────────────────────────────────── skimpy summary ─────────────────────────────────────────────────╮\n",
       "│ <span style=\"font-style: italic\">         Data Summary         </span> <span style=\"font-style: italic\">      Data Types       </span>                                                          │\n",
       "│ ┏━━━━━━━━━━━━━━━━━━━┳━━━━━━━━┓ ┏━━━━━━━━━━━━━┳━━━━━━━┓                                                          │\n",
       "│ ┃<span style=\"color: #008080; text-decoration-color: #008080; font-weight: bold\"> dataframe         </span>┃<span style=\"color: #008080; text-decoration-color: #008080; font-weight: bold\"> Values </span>┃ ┃<span style=\"color: #008080; text-decoration-color: #008080; font-weight: bold\"> Column Type </span>┃<span style=\"color: #008080; text-decoration-color: #008080; font-weight: bold\"> Count </span>┃                                                          │\n",
       "│ ┡━━━━━━━━━━━━━━━━━━━╇━━━━━━━━┩ ┡━━━━━━━━━━━━━╇━━━━━━━┩                                                          │\n",
       "│ │ Number of rows    │ 450176 │ │ int32       │ 2     │                                                          │\n",
       "│ │ Number of columns │ 4      │ │ string      │ 2     │                                                          │\n",
       "│ └───────────────────┴────────┘ └─────────────┴───────┘                                                          │\n",
       "│ <span style=\"font-style: italic\">                                                    number                                                    </span>  │\n",
       "│ ┏━━━━━━━━━━━━━━━━┳━━━━━┳━━━━━━━┳━━━━━━━━━━┳━━━━━━━━━━┳━━━━━┳━━━━━━━━━┳━━━━━━━━━┳━━━━━━━━━┳━━━━━━━━━┳━━━━━━━━━┓  │\n",
       "│ ┃<span style=\"font-weight: bold\"> column_name    </span>┃<span style=\"font-weight: bold\"> NA  </span>┃<span style=\"font-weight: bold\"> NA %  </span>┃<span style=\"font-weight: bold\"> mean     </span>┃<span style=\"font-weight: bold\"> sd       </span>┃<span style=\"font-weight: bold\"> p0  </span>┃<span style=\"font-weight: bold\"> p25     </span>┃<span style=\"font-weight: bold\"> p50     </span>┃<span style=\"font-weight: bold\"> p75     </span>┃<span style=\"font-weight: bold\"> p100    </span>┃<span style=\"font-weight: bold\"> hist    </span>┃  │\n",
       "│ ┡━━━━━━━━━━━━━━━━╇━━━━━╇━━━━━━━╇━━━━━━━━━━╇━━━━━━━━━━╇━━━━━╇━━━━━━━━━╇━━━━━━━━━╇━━━━━━━━━╇━━━━━━━━━╇━━━━━━━━━┩  │\n",
       "│ │ <span style=\"color: #af87ff; text-decoration-color: #af87ff\">Unnamed: 0    </span> │ <span style=\"color: #008080; text-decoration-color: #008080\">  0</span> │ <span style=\"color: #008080; text-decoration-color: #008080\">    0</span> │ <span style=\"color: #008080; text-decoration-color: #008080\">  230000</span> │ <span style=\"color: #008080; text-decoration-color: #008080\">  130000</span> │ <span style=\"color: #008080; text-decoration-color: #008080\">  0</span> │ <span style=\"color: #008080; text-decoration-color: #008080\"> 110000</span> │ <span style=\"color: #008080; text-decoration-color: #008080\"> 230000</span> │ <span style=\"color: #008080; text-decoration-color: #008080\"> 340000</span> │ <span style=\"color: #008080; text-decoration-color: #008080\"> 450000</span> │ <span style=\"color: #008000; text-decoration-color: #008000\">▇▇▇▇▇▇ </span> │  │\n",
       "│ │ <span style=\"color: #af87ff; text-decoration-color: #af87ff\">result        </span> │ <span style=\"color: #008080; text-decoration-color: #008080\">  0</span> │ <span style=\"color: #008080; text-decoration-color: #008080\">    0</span> │ <span style=\"color: #008080; text-decoration-color: #008080\">    0.23</span> │ <span style=\"color: #008080; text-decoration-color: #008080\">    0.42</span> │ <span style=\"color: #008080; text-decoration-color: #008080\">  0</span> │ <span style=\"color: #008080; text-decoration-color: #008080\">      0</span> │ <span style=\"color: #008080; text-decoration-color: #008080\">      0</span> │ <span style=\"color: #008080; text-decoration-color: #008080\">      0</span> │ <span style=\"color: #008080; text-decoration-color: #008080\">      1</span> │ <span style=\"color: #008000; text-decoration-color: #008000\">▇    ▂ </span> │  │\n",
       "│ └────────────────┴─────┴───────┴──────────┴──────────┴─────┴─────────┴─────────┴─────────┴─────────┴─────────┘  │\n",
       "│ <span style=\"font-style: italic\">                                                    string                                                    </span>  │\n",
       "│ ┏━━━━━━━━━━━━━━━━━━━━━━━━━━━┳━━━━━━━━━┳━━━━━━━━━━━━┳━━━━━━━━━━━━━━━━━━━━━━━━━━━━━━┳━━━━━━━━━━━━━━━━━━━━━━━━━━┓  │\n",
       "│ ┃<span style=\"font-weight: bold\"> column_name               </span>┃<span style=\"font-weight: bold\"> NA      </span>┃<span style=\"font-weight: bold\"> NA %       </span>┃<span style=\"font-weight: bold\"> words per row                </span>┃<span style=\"font-weight: bold\"> total words              </span>┃  │\n",
       "│ ┡━━━━━━━━━━━━━━━━━━━━━━━━━━━╇━━━━━━━━━╇━━━━━━━━━━━━╇━━━━━━━━━━━━━━━━━━━━━━━━━━━━━━╇━━━━━━━━━━━━━━━━━━━━━━━━━━┩  │\n",
       "│ │ <span style=\"color: #af87ff; text-decoration-color: #af87ff\">url                      </span> │ <span style=\"color: #008080; text-decoration-color: #008080\">      0</span> │ <span style=\"color: #008080; text-decoration-color: #008080\">         0</span> │ <span style=\"color: #008080; text-decoration-color: #008080\">                           1</span> │ <span style=\"color: #008080; text-decoration-color: #008080\">                  450741</span> │  │\n",
       "│ │ <span style=\"color: #af87ff; text-decoration-color: #af87ff\">label                    </span> │ <span style=\"color: #008080; text-decoration-color: #008080\">      0</span> │ <span style=\"color: #008080; text-decoration-color: #008080\">         0</span> │ <span style=\"color: #008080; text-decoration-color: #008080\">                           1</span> │ <span style=\"color: #008080; text-decoration-color: #008080\">                  450176</span> │  │\n",
       "│ └───────────────────────────┴─────────┴────────────┴──────────────────────────────┴──────────────────────────┘  │\n",
       "╰────────────────────────────────────────────────────── End ──────────────────────────────────────────────────────╯\n",
       "</pre>\n"
      ],
      "text/plain": [
       "╭──────────────────────────────────────────────── skimpy summary ─────────────────────────────────────────────────╮\n",
       "│ \u001b[3m         Data Summary         \u001b[0m \u001b[3m      Data Types       \u001b[0m                                                          │\n",
       "│ ┏━━━━━━━━━━━━━━━━━━━┳━━━━━━━━┓ ┏━━━━━━━━━━━━━┳━━━━━━━┓                                                          │\n",
       "│ ┃\u001b[1;36m \u001b[0m\u001b[1;36mdataframe        \u001b[0m\u001b[1;36m \u001b[0m┃\u001b[1;36m \u001b[0m\u001b[1;36mValues\u001b[0m\u001b[1;36m \u001b[0m┃ ┃\u001b[1;36m \u001b[0m\u001b[1;36mColumn Type\u001b[0m\u001b[1;36m \u001b[0m┃\u001b[1;36m \u001b[0m\u001b[1;36mCount\u001b[0m\u001b[1;36m \u001b[0m┃                                                          │\n",
       "│ ┡━━━━━━━━━━━━━━━━━━━╇━━━━━━━━┩ ┡━━━━━━━━━━━━━╇━━━━━━━┩                                                          │\n",
       "│ │ Number of rows    │ 450176 │ │ int32       │ 2     │                                                          │\n",
       "│ │ Number of columns │ 4      │ │ string      │ 2     │                                                          │\n",
       "│ └───────────────────┴────────┘ └─────────────┴───────┘                                                          │\n",
       "│ \u001b[3m                                                    number                                                    \u001b[0m  │\n",
       "│ ┏━━━━━━━━━━━━━━━━┳━━━━━┳━━━━━━━┳━━━━━━━━━━┳━━━━━━━━━━┳━━━━━┳━━━━━━━━━┳━━━━━━━━━┳━━━━━━━━━┳━━━━━━━━━┳━━━━━━━━━┓  │\n",
       "│ ┃\u001b[1m \u001b[0m\u001b[1mcolumn_name   \u001b[0m\u001b[1m \u001b[0m┃\u001b[1m \u001b[0m\u001b[1mNA \u001b[0m\u001b[1m \u001b[0m┃\u001b[1m \u001b[0m\u001b[1mNA % \u001b[0m\u001b[1m \u001b[0m┃\u001b[1m \u001b[0m\u001b[1mmean    \u001b[0m\u001b[1m \u001b[0m┃\u001b[1m \u001b[0m\u001b[1msd      \u001b[0m\u001b[1m \u001b[0m┃\u001b[1m \u001b[0m\u001b[1mp0 \u001b[0m\u001b[1m \u001b[0m┃\u001b[1m \u001b[0m\u001b[1mp25    \u001b[0m\u001b[1m \u001b[0m┃\u001b[1m \u001b[0m\u001b[1mp50    \u001b[0m\u001b[1m \u001b[0m┃\u001b[1m \u001b[0m\u001b[1mp75    \u001b[0m\u001b[1m \u001b[0m┃\u001b[1m \u001b[0m\u001b[1mp100   \u001b[0m\u001b[1m \u001b[0m┃\u001b[1m \u001b[0m\u001b[1mhist   \u001b[0m\u001b[1m \u001b[0m┃  │\n",
       "│ ┡━━━━━━━━━━━━━━━━╇━━━━━╇━━━━━━━╇━━━━━━━━━━╇━━━━━━━━━━╇━━━━━╇━━━━━━━━━╇━━━━━━━━━╇━━━━━━━━━╇━━━━━━━━━╇━━━━━━━━━┩  │\n",
       "│ │ \u001b[38;5;141mUnnamed: 0    \u001b[0m │ \u001b[36m  0\u001b[0m │ \u001b[36m    0\u001b[0m │ \u001b[36m  230000\u001b[0m │ \u001b[36m  130000\u001b[0m │ \u001b[36m  0\u001b[0m │ \u001b[36m 110000\u001b[0m │ \u001b[36m 230000\u001b[0m │ \u001b[36m 340000\u001b[0m │ \u001b[36m 450000\u001b[0m │ \u001b[32m▇▇▇▇▇▇ \u001b[0m │  │\n",
       "│ │ \u001b[38;5;141mresult        \u001b[0m │ \u001b[36m  0\u001b[0m │ \u001b[36m    0\u001b[0m │ \u001b[36m    0.23\u001b[0m │ \u001b[36m    0.42\u001b[0m │ \u001b[36m  0\u001b[0m │ \u001b[36m      0\u001b[0m │ \u001b[36m      0\u001b[0m │ \u001b[36m      0\u001b[0m │ \u001b[36m      1\u001b[0m │ \u001b[32m▇    ▂ \u001b[0m │  │\n",
       "│ └────────────────┴─────┴───────┴──────────┴──────────┴─────┴─────────┴─────────┴─────────┴─────────┴─────────┘  │\n",
       "│ \u001b[3m                                                    string                                                    \u001b[0m  │\n",
       "│ ┏━━━━━━━━━━━━━━━━━━━━━━━━━━━┳━━━━━━━━━┳━━━━━━━━━━━━┳━━━━━━━━━━━━━━━━━━━━━━━━━━━━━━┳━━━━━━━━━━━━━━━━━━━━━━━━━━┓  │\n",
       "│ ┃\u001b[1m \u001b[0m\u001b[1mcolumn_name              \u001b[0m\u001b[1m \u001b[0m┃\u001b[1m \u001b[0m\u001b[1mNA     \u001b[0m\u001b[1m \u001b[0m┃\u001b[1m \u001b[0m\u001b[1mNA %      \u001b[0m\u001b[1m \u001b[0m┃\u001b[1m \u001b[0m\u001b[1mwords per row               \u001b[0m\u001b[1m \u001b[0m┃\u001b[1m \u001b[0m\u001b[1mtotal words             \u001b[0m\u001b[1m \u001b[0m┃  │\n",
       "│ ┡━━━━━━━━━━━━━━━━━━━━━━━━━━━╇━━━━━━━━━╇━━━━━━━━━━━━╇━━━━━━━━━━━━━━━━━━━━━━━━━━━━━━╇━━━━━━━━━━━━━━━━━━━━━━━━━━┩  │\n",
       "│ │ \u001b[38;5;141murl                      \u001b[0m │ \u001b[36m      0\u001b[0m │ \u001b[36m         0\u001b[0m │ \u001b[36m                           1\u001b[0m │ \u001b[36m                  450741\u001b[0m │  │\n",
       "│ │ \u001b[38;5;141mlabel                    \u001b[0m │ \u001b[36m      0\u001b[0m │ \u001b[36m         0\u001b[0m │ \u001b[36m                           1\u001b[0m │ \u001b[36m                  450176\u001b[0m │  │\n",
       "│ └───────────────────────────┴─────────┴────────────┴──────────────────────────────┴──────────────────────────┘  │\n",
       "╰────────────────────────────────────────────────────── End ──────────────────────────────────────────────────────╯\n"
      ]
     },
     "metadata": {},
     "output_type": "display_data"
    }
   ],
   "source": [
    "#getting the summary of the dataset\n",
    "skimpy.skim(df)"
   ]
  },
  {
   "cell_type": "markdown",
   "metadata": {},
   "source": [
    "### Data Preprocessing"
   ]
  },
  {
   "cell_type": "code",
   "execution_count": 3,
   "metadata": {},
   "outputs": [],
   "source": [
    "#Dropping the unnamed column\n",
    "df = df.drop('Unnamed: 0', axis=1)"
   ]
  },
  {
   "cell_type": "code",
   "execution_count": 4,
   "metadata": {},
   "outputs": [
    {
     "data": {
      "text/html": [
       "<div>\n",
       "<style scoped>\n",
       "    .dataframe tbody tr th:only-of-type {\n",
       "        vertical-align: middle;\n",
       "    }\n",
       "\n",
       "    .dataframe tbody tr th {\n",
       "        vertical-align: top;\n",
       "    }\n",
       "\n",
       "    .dataframe thead th {\n",
       "        text-align: right;\n",
       "    }\n",
       "</style>\n",
       "<table border=\"1\" class=\"dataframe\">\n",
       "  <thead>\n",
       "    <tr style=\"text-align: right;\">\n",
       "      <th></th>\n",
       "      <th>url</th>\n",
       "      <th>label</th>\n",
       "      <th>result</th>\n",
       "    </tr>\n",
       "  </thead>\n",
       "  <tbody>\n",
       "    <tr>\n",
       "      <th>345738</th>\n",
       "      <td>http://atualizacaodedados.online</td>\n",
       "      <td>malicious</td>\n",
       "      <td>1</td>\n",
       "    </tr>\n",
       "    <tr>\n",
       "      <th>345739</th>\n",
       "      <td>http://webmasteradmin.ukit.me/</td>\n",
       "      <td>malicious</td>\n",
       "      <td>1</td>\n",
       "    </tr>\n",
       "    <tr>\n",
       "      <th>345740</th>\n",
       "      <td>http://stcdxmt.bigperl.in/klxtv/apps/uk/</td>\n",
       "      <td>malicious</td>\n",
       "      <td>1</td>\n",
       "    </tr>\n",
       "    <tr>\n",
       "      <th>345741</th>\n",
       "      <td>https://tubuh-syarikat.com/plugins/fields/files/</td>\n",
       "      <td>malicious</td>\n",
       "      <td>1</td>\n",
       "    </tr>\n",
       "    <tr>\n",
       "      <th>345742</th>\n",
       "      <td>http://rolyborgesmd.com/exceword/excel.php?.ra...</td>\n",
       "      <td>malicious</td>\n",
       "      <td>1</td>\n",
       "    </tr>\n",
       "    <tr>\n",
       "      <th>...</th>\n",
       "      <td>...</td>\n",
       "      <td>...</td>\n",
       "      <td>...</td>\n",
       "    </tr>\n",
       "    <tr>\n",
       "      <th>345833</th>\n",
       "      <td>http://neilcuthbert.com/neilcuthbert.com/wp-co...</td>\n",
       "      <td>malicious</td>\n",
       "      <td>1</td>\n",
       "    </tr>\n",
       "    <tr>\n",
       "      <th>345834</th>\n",
       "      <td>http://kotbis1.000webhostapp.com/recovery-answ...</td>\n",
       "      <td>malicious</td>\n",
       "      <td>1</td>\n",
       "    </tr>\n",
       "    <tr>\n",
       "      <th>345835</th>\n",
       "      <td>http://neilcuthbert.com/neilcuthbert.com/wp-co...</td>\n",
       "      <td>malicious</td>\n",
       "      <td>1</td>\n",
       "    </tr>\n",
       "    <tr>\n",
       "      <th>345836</th>\n",
       "      <td>http://neilcuthbert.com/neilcuthbert.com/wp-co...</td>\n",
       "      <td>malicious</td>\n",
       "      <td>1</td>\n",
       "    </tr>\n",
       "    <tr>\n",
       "      <th>345837</th>\n",
       "      <td>http://tc-admin.be/chase/a40c8d818a011683a16ed...</td>\n",
       "      <td>malicious</td>\n",
       "      <td>1</td>\n",
       "    </tr>\n",
       "  </tbody>\n",
       "</table>\n",
       "<p>100 rows × 3 columns</p>\n",
       "</div>"
      ],
      "text/plain": [
       "                                                      url      label  result\n",
       "345738                   http://atualizacaodedados.online  malicious       1\n",
       "345739                     http://webmasteradmin.ukit.me/  malicious       1\n",
       "345740           http://stcdxmt.bigperl.in/klxtv/apps/uk/  malicious       1\n",
       "345741   https://tubuh-syarikat.com/plugins/fields/files/  malicious       1\n",
       "345742  http://rolyborgesmd.com/exceword/excel.php?.ra...  malicious       1\n",
       "...                                                   ...        ...     ...\n",
       "345833  http://neilcuthbert.com/neilcuthbert.com/wp-co...  malicious       1\n",
       "345834  http://kotbis1.000webhostapp.com/recovery-answ...  malicious       1\n",
       "345835  http://neilcuthbert.com/neilcuthbert.com/wp-co...  malicious       1\n",
       "345836  http://neilcuthbert.com/neilcuthbert.com/wp-co...  malicious       1\n",
       "345837  http://tc-admin.be/chase/a40c8d818a011683a16ed...  malicious       1\n",
       "\n",
       "[100 rows x 3 columns]"
      ]
     },
     "execution_count": 4,
     "metadata": {},
     "output_type": "execute_result"
    }
   ],
   "source": [
    "#looking at urls which are malicious\n",
    "df[df['result']==1].head(100)"
   ]
  },
  {
   "cell_type": "markdown",
   "metadata": {},
   "source": [
    "Here I convert the url featurs to an encrypted version of the url based on the journal that I referred to, to adopt an unsupervised learning technique like KMeans to be able to cluster the urls into 'malicious' and 'benign'.\n",
    "\n",
    "Algorithm:\n",
    "\n",
    "![alt text](image-1.png)\n",
    "\n",
    "#### Impotant References\n",
    "1. URLdeepDetect: A Deep Learning Approach for Detecting Malicious URLs Using Semantic Vector Models: https://link.springer.com/article/10.1007/s10922-021-09587-8\n",
    "\n",
    "2. Adopted Gaussian Mixture algorithm from - https://scikit-learn.org/stable/auto_examples/mixture/plot_gmm_covariances.html#sphx-glr-auto-examples-mixture-plot-gmm-covariances-py\n"
   ]
  },
  {
   "cell_type": "code",
   "execution_count": 5,
   "metadata": {},
   "outputs": [
    {
     "data": {
      "text/html": [
       "<div>\n",
       "<style scoped>\n",
       "    .dataframe tbody tr th:only-of-type {\n",
       "        vertical-align: middle;\n",
       "    }\n",
       "\n",
       "    .dataframe tbody tr th {\n",
       "        vertical-align: top;\n",
       "    }\n",
       "\n",
       "    .dataframe thead th {\n",
       "        text-align: right;\n",
       "    }\n",
       "</style>\n",
       "<table border=\"1\" class=\"dataframe\">\n",
       "  <thead>\n",
       "    <tr style=\"text-align: right;\">\n",
       "      <th></th>\n",
       "      <th>url</th>\n",
       "      <th>label</th>\n",
       "      <th>result</th>\n",
       "      <th>url_length</th>\n",
       "      <th>number_digits</th>\n",
       "      <th>special_characters</th>\n",
       "      <th>alphabet</th>\n",
       "      <th>sum_special_alphabet</th>\n",
       "      <th>domain</th>\n",
       "      <th>domain_to_digit</th>\n",
       "      <th>encrypted_url</th>\n",
       "    </tr>\n",
       "  </thead>\n",
       "  <tbody>\n",
       "    <tr>\n",
       "      <th>0</th>\n",
       "      <td>https://www.google.com</td>\n",
       "      <td>benign</td>\n",
       "      <td>0</td>\n",
       "      <td>22</td>\n",
       "      <td>0</td>\n",
       "      <td>5</td>\n",
       "      <td>17</td>\n",
       "      <td>22</td>\n",
       "      <td>www.google.com</td>\n",
       "      <td>119119119461031111111031081014699111109</td>\n",
       "      <td>11911911946103111111103108101469911110922022</td>\n",
       "    </tr>\n",
       "    <tr>\n",
       "      <th>1</th>\n",
       "      <td>https://www.youtube.com</td>\n",
       "      <td>benign</td>\n",
       "      <td>0</td>\n",
       "      <td>23</td>\n",
       "      <td>0</td>\n",
       "      <td>5</td>\n",
       "      <td>18</td>\n",
       "      <td>23</td>\n",
       "      <td>www.youtube.com</td>\n",
       "      <td>11911911946121111117116117981014699111109</td>\n",
       "      <td>1191191194612111111711611798101469911110923023</td>\n",
       "    </tr>\n",
       "    <tr>\n",
       "      <th>2</th>\n",
       "      <td>https://www.facebook.com</td>\n",
       "      <td>benign</td>\n",
       "      <td>0</td>\n",
       "      <td>24</td>\n",
       "      <td>0</td>\n",
       "      <td>5</td>\n",
       "      <td>19</td>\n",
       "      <td>24</td>\n",
       "      <td>www.facebook.com</td>\n",
       "      <td>119119119461029799101981111111074699111109</td>\n",
       "      <td>11911911946102979910198111111107469911110924024</td>\n",
       "    </tr>\n",
       "    <tr>\n",
       "      <th>3</th>\n",
       "      <td>https://www.baidu.com</td>\n",
       "      <td>benign</td>\n",
       "      <td>0</td>\n",
       "      <td>21</td>\n",
       "      <td>0</td>\n",
       "      <td>5</td>\n",
       "      <td>16</td>\n",
       "      <td>21</td>\n",
       "      <td>www.baidu.com</td>\n",
       "      <td>1191191194698971051001174699111109</td>\n",
       "      <td>119119119469897105100117469911110921021</td>\n",
       "    </tr>\n",
       "    <tr>\n",
       "      <th>4</th>\n",
       "      <td>https://www.wikipedia.org</td>\n",
       "      <td>benign</td>\n",
       "      <td>0</td>\n",
       "      <td>25</td>\n",
       "      <td>0</td>\n",
       "      <td>5</td>\n",
       "      <td>20</td>\n",
       "      <td>25</td>\n",
       "      <td>www.wikipedia.org</td>\n",
       "      <td>119119119461191051071051121011001059746111114103</td>\n",
       "      <td>1191191194611910510710511210110010597461111141...</td>\n",
       "    </tr>\n",
       "    <tr>\n",
       "      <th>...</th>\n",
       "      <td>...</td>\n",
       "      <td>...</td>\n",
       "      <td>...</td>\n",
       "      <td>...</td>\n",
       "      <td>...</td>\n",
       "      <td>...</td>\n",
       "      <td>...</td>\n",
       "      <td>...</td>\n",
       "      <td>...</td>\n",
       "      <td>...</td>\n",
       "      <td>...</td>\n",
       "    </tr>\n",
       "    <tr>\n",
       "      <th>450171</th>\n",
       "      <td>http://ecct-it.com/docmmmnn/aptgd/index.php</td>\n",
       "      <td>malicious</td>\n",
       "      <td>1</td>\n",
       "      <td>43</td>\n",
       "      <td>0</td>\n",
       "      <td>8</td>\n",
       "      <td>34</td>\n",
       "      <td>42</td>\n",
       "      <td>ecct-it.com</td>\n",
       "      <td>1019999116451051164699111109</td>\n",
       "      <td>101999911645105116469911110942043</td>\n",
       "    </tr>\n",
       "    <tr>\n",
       "      <th>450172</th>\n",
       "      <td>http://faboleena.com/js/infortis/jquery/plugin...</td>\n",
       "      <td>malicious</td>\n",
       "      <td>1</td>\n",
       "      <td>159</td>\n",
       "      <td>21</td>\n",
       "      <td>19</td>\n",
       "      <td>118</td>\n",
       "      <td>137</td>\n",
       "      <td>faboleena.com</td>\n",
       "      <td>1029798111108101101110974699111109</td>\n",
       "      <td>102979811110810110111097469911110913721159</td>\n",
       "    </tr>\n",
       "    <tr>\n",
       "      <th>450173</th>\n",
       "      <td>http://faboleena.com/js/infortis/jquery/plugin...</td>\n",
       "      <td>malicious</td>\n",
       "      <td>1</td>\n",
       "      <td>147</td>\n",
       "      <td>20</td>\n",
       "      <td>17</td>\n",
       "      <td>109</td>\n",
       "      <td>126</td>\n",
       "      <td>faboleena.com</td>\n",
       "      <td>1029798111108101101110974699111109</td>\n",
       "      <td>102979811110810110111097469911110912620147</td>\n",
       "    </tr>\n",
       "    <tr>\n",
       "      <th>450174</th>\n",
       "      <td>http://atualizapj.com/</td>\n",
       "      <td>malicious</td>\n",
       "      <td>1</td>\n",
       "      <td>22</td>\n",
       "      <td>0</td>\n",
       "      <td>5</td>\n",
       "      <td>17</td>\n",
       "      <td>22</td>\n",
       "      <td>atualizapj.com</td>\n",
       "      <td>9711611797108105122971121064699111109</td>\n",
       "      <td>971161179710810512297112106469911110922022</td>\n",
       "    </tr>\n",
       "    <tr>\n",
       "      <th>450175</th>\n",
       "      <td>http://writeassociate.com/test/Portal/inicio/I...</td>\n",
       "      <td>malicious</td>\n",
       "      <td>1</td>\n",
       "      <td>143</td>\n",
       "      <td>9</td>\n",
       "      <td>15</td>\n",
       "      <td>118</td>\n",
       "      <td>133</td>\n",
       "      <td>writeassociate.com</td>\n",
       "      <td>1191141051161019711511511199105971161014699111109</td>\n",
       "      <td>1191141051161019711511511199105971161014699111...</td>\n",
       "    </tr>\n",
       "  </tbody>\n",
       "</table>\n",
       "<p>450176 rows × 11 columns</p>\n",
       "</div>"
      ],
      "text/plain": [
       "                                                      url      label  result  \\\n",
       "0                                  https://www.google.com     benign       0   \n",
       "1                                 https://www.youtube.com     benign       0   \n",
       "2                                https://www.facebook.com     benign       0   \n",
       "3                                   https://www.baidu.com     benign       0   \n",
       "4                               https://www.wikipedia.org     benign       0   \n",
       "...                                                   ...        ...     ...   \n",
       "450171        http://ecct-it.com/docmmmnn/aptgd/index.php  malicious       1   \n",
       "450172  http://faboleena.com/js/infortis/jquery/plugin...  malicious       1   \n",
       "450173  http://faboleena.com/js/infortis/jquery/plugin...  malicious       1   \n",
       "450174                             http://atualizapj.com/  malicious       1   \n",
       "450175  http://writeassociate.com/test/Portal/inicio/I...  malicious       1   \n",
       "\n",
       "        url_length  number_digits  special_characters  alphabet  \\\n",
       "0               22              0                   5        17   \n",
       "1               23              0                   5        18   \n",
       "2               24              0                   5        19   \n",
       "3               21              0                   5        16   \n",
       "4               25              0                   5        20   \n",
       "...            ...            ...                 ...       ...   \n",
       "450171          43              0                   8        34   \n",
       "450172         159             21                  19       118   \n",
       "450173         147             20                  17       109   \n",
       "450174          22              0                   5        17   \n",
       "450175         143              9                  15       118   \n",
       "\n",
       "        sum_special_alphabet              domain  \\\n",
       "0                         22      www.google.com   \n",
       "1                         23     www.youtube.com   \n",
       "2                         24    www.facebook.com   \n",
       "3                         21       www.baidu.com   \n",
       "4                         25   www.wikipedia.org   \n",
       "...                      ...                 ...   \n",
       "450171                    42         ecct-it.com   \n",
       "450172                   137       faboleena.com   \n",
       "450173                   126       faboleena.com   \n",
       "450174                    22      atualizapj.com   \n",
       "450175                   133  writeassociate.com   \n",
       "\n",
       "                                          domain_to_digit  \\\n",
       "0                 119119119461031111111031081014699111109   \n",
       "1               11911911946121111117116117981014699111109   \n",
       "2              119119119461029799101981111111074699111109   \n",
       "3                      1191191194698971051001174699111109   \n",
       "4        119119119461191051071051121011001059746111114103   \n",
       "...                                                   ...   \n",
       "450171                       1019999116451051164699111109   \n",
       "450172                 1029798111108101101110974699111109   \n",
       "450173                 1029798111108101101110974699111109   \n",
       "450174              9711611797108105122971121064699111109   \n",
       "450175  1191141051161019711511511199105971161014699111109   \n",
       "\n",
       "                                            encrypted_url  \n",
       "0            11911911946103111111103108101469911110922022  \n",
       "1          1191191194612111111711611798101469911110923023  \n",
       "2         11911911946102979910198111111107469911110924024  \n",
       "3                 119119119469897105100117469911110921021  \n",
       "4       1191191194611910510710511210110010597461111141...  \n",
       "...                                                   ...  \n",
       "450171                  101999911645105116469911110942043  \n",
       "450172         102979811110810110111097469911110913721159  \n",
       "450173         102979811110810110111097469911110912620147  \n",
       "450174         971161179710810512297112106469911110922022  \n",
       "450175  1191141051161019711511511199105971161014699111...  \n",
       "\n",
       "[450176 rows x 11 columns]"
      ]
     },
     "execution_count": 5,
     "metadata": {},
     "output_type": "execute_result"
    }
   ],
   "source": [
    "import re\n",
    "from urllib.parse import urlparse, parse_qs\n",
    "\n",
    "#calculating the length of the url\n",
    "df['url_length'] = df['url'].apply(lambda x: len(str(x)))\n",
    "\n",
    "#couting the number of digits in the url\n",
    "df['number_digits'] = df['url'].apply(lambda x: sum(c.isdigit() for c in x))\n",
    "\n",
    "#counting the special characters in the url\n",
    "df['special_characters'] = df['url'].apply(lambda x: len(re.findall(r'[!@#$%^&*(_+?/:.]',x)))\n",
    "\n",
    "#counting the number of alphabet characters in the url\n",
    "df['alphabet'] = df['url'].apply(lambda x: len(re.findall(r'[a-zA-Z]',x)))\n",
    "\n",
    "#sum count of special characters and alphabet characters\n",
    "df['sum_special_alphabet'] = df['special_characters'] + df['alphabet']\n",
    "\n",
    "#extract domain name from url\n",
    "df['domain'] = df['url'].apply(lambda x: urlparse(x).netloc)\n",
    "\n",
    "\n",
    "def convert_dom_alpha_to_digit(domain):\n",
    "    return ''.join(str(ord(c)) if not c.isdigit() else c for c in domain)\n",
    "\n",
    "# Apply the function to each row in the 'domain' column\n",
    "df['domain_to_digit'] = df['domain'].apply(convert_dom_alpha_to_digit)\n",
    "\n",
    "df['encrypted_url'] =  df['domain_to_digit'].astype(str)+ df['sum_special_alphabet'].astype(str)+ df['number_digits'].astype(str) +df['url_length'].astype(str)\n",
    "df['encrypted_url'] = df['encrypted_url'].str.replace('.', '')\n",
    "df['encrypted_url'] = df['encrypted_url'].str.replace('-', '')\n",
    "df['encrypted_url'] = df['encrypted_url'].str.replace('/', '')\n",
    "df['encrypted_url'] = df['encrypted_url'].str.replace(':', '')\n",
    "df['encrypted_url'] = df['encrypted_url'].str.replace('?', '')\n",
    "df['encrypted_url'] = df['encrypted_url'].str.replace(r'[^a-zA-Z\\d\\s:@%=_.?/-:]', '', regex=True)\n",
    "df['encrypted_url'] = df['encrypted_url'].str.replace('@', '')\n",
    "df['encrypted_url'] = df['encrypted_url'].str.replace(r'[^0-9]', '', regex=True)\n",
    "\n",
    "df\n"
   ]
  },
  {
   "cell_type": "markdown",
   "metadata": {},
   "source": [
    "#### Visualizing URL lengths"
   ]
  },
  {
   "cell_type": "code",
   "execution_count": 6,
   "metadata": {},
   "outputs": [
    {
     "name": "stderr",
     "output_type": "stream",
     "text": [
      "d:\\Anaconda\\lib\\site-packages\\seaborn\\categorical.py:1794: FutureWarning: use_inf_as_na option is deprecated and will be removed in a future version. Convert inf values to NaN before operating instead.\n",
      "  with pd.option_context('mode.use_inf_as_na', True):\n",
      "d:\\Anaconda\\lib\\site-packages\\seaborn\\categorical.py:1794: FutureWarning: use_inf_as_na option is deprecated and will be removed in a future version. Convert inf values to NaN before operating instead.\n",
      "  with pd.option_context('mode.use_inf_as_na', True):\n"
     ]
    },
    {
     "data": {
      "image/png": "[encoded data removed]",
      "text/plain": [
       "<Figure size 1080x576 with 1 Axes>"
      ]
     },
     "metadata": {
      "needs_background": "light"
     },
     "output_type": "display_data"
    }
   ],
   "source": [
    "#visualizing the data\n",
    "from re import X\n",
    "import seaborn as sns\n",
    "import matplotlib.pyplot as plt\n",
    "\n",
    "plt.figure(figsize=(15,8))\n",
    "#plotting the distribution of the url length\n",
    "sns.boxenplot(data=df,x='result',y='url_length',hue='result',palette='viridis',dodge=False,orient='v',linewidth=1.5,\n",
    "              width=0.7)\n",
    "plt.title('Distribution of URL length')\n",
    "plt.show()\n"
   ]
  },
  {
   "cell_type": "markdown",
   "metadata": {},
   "source": [
    "The above plot of URL lenghts show that the variablity in lenghts for 'malicious' urls are very high compared to 'benign' urls. There are some extreme outliers as well."
   ]
  },
  {
   "cell_type": "code",
   "execution_count": 7,
   "metadata": {},
   "outputs": [],
   "source": [
    "#df['encrypted_url'] = pd.to_numeric(df['encrypted_url'], errors='coerce')\n",
    "df = df.dropna(subset=['encrypted_url'])"
   ]
  },
  {
   "cell_type": "code",
   "execution_count": 8,
   "metadata": {},
   "outputs": [],
   "source": [
    "df = df.drop_duplicates()"
   ]
  },
  {
   "cell_type": "markdown",
   "metadata": {},
   "source": [
    "### Model Training"
   ]
  },
  {
   "cell_type": "code",
   "execution_count": 9,
   "metadata": {},
   "outputs": [],
   "source": [
    "from sklearn.cluster import KMeans\n",
    "from sklearn.impute import SimpleImputer\n",
    "from sklearn.preprocessing import LabelEncoder\n",
    "\n",
    "# Check for missing values in 'encrypted_url'\n",
    "missing_values = df['encrypted_url'].isnull().sum()\n",
    "\n",
    "# If there are missing values, replace them with a placeholder string\n",
    "if missing_values > 0:\n",
    "    df['encrypted_url'] = df['encrypted_url'].fillna('missing')\n",
    "\n",
    "#imputer = SimpleImputer(strategy='constant', fill_value='missing')\n",
    "#df['encrypted_url'] = imputer.fit_transform(df[['encrypted_url']])[:, 0]\n",
    "\n",
    "label_encoder = LabelEncoder()\n",
    "df['encrypted_url'] = label_encoder.fit_transform(df['encrypted_url'])\n",
    "\n"
   ]
  },
  {
   "cell_type": "markdown",
   "metadata": {},
   "source": [
    "#### KMeans Clustering"
   ]
  },
  {
   "cell_type": "code",
   "execution_count": 10,
   "metadata": {},
   "outputs": [],
   "source": [
    "X = df[['encrypted_url']]\n",
    "kmeans = KMeans(n_clusters=2,init='random',max_iter=1000,n_init=10,random_state=42)\n",
    "kmeans.fit(X)\n",
    "df['cluster'] = kmeans.predict(X)"
   ]
  },
  {
   "cell_type": "code",
   "execution_count": 11,
   "metadata": {},
   "outputs": [
    {
     "name": "stdout",
     "output_type": "stream",
     "text": [
      "[[185503  33108]\n",
      " [160235  71330]]\n",
      "              precision    recall  f1-score   support\n",
      "\n",
      "           0       0.54      0.85      0.66    218611\n",
      "           1       0.68      0.31      0.42    231565\n",
      "\n",
      "    accuracy                           0.57    450176\n",
      "   macro avg       0.61      0.58      0.54    450176\n",
      "weighted avg       0.61      0.57      0.54    450176\n",
      "\n",
      "0.5705168645152118\n",
      "0.5782936851074518\n"
     ]
    }
   ],
   "source": [
    "from sklearn.metrics import confusion_matrix, classification_report, accuracy_score, roc_auc_score\n",
    "print(confusion_matrix(df['cluster'],df['result']))\n",
    "print(classification_report(df['cluster'], df['result']))\n",
    "print(accuracy_score(df['cluster'], df['result']))\n",
    "print(roc_auc_score(df['cluster'],df['result']))\n"
   ]
  },
  {
   "cell_type": "markdown",
   "metadata": {},
   "source": [
    "KMeans is very succeptible to imbalance in the data and hence we can expect lower accuracy.\n",
    "\n",
    "Gaussian Mixture Models (GMMs) are a type of probabilistic model that assumes all the data points are generated from a mixture of a finite number of Gaussian distributions with unknown parameters.\n",
    "\n",
    "Unlike KMeans, which is a hard clustering method, GMM is a soft clustering method that provides the probability of a data point belonging to each cluster. This can be beneficial in handling imbalanced data because it doesn't strictly assign a data point to a single cluster, but rather gives a distribution of probabilities.\n",
    "\n",
    "However, GMMs do not inherently handle class imbalance. They will still be affected by the imbalance in the data because they estimate the probability density function of the input data, and this estimation is influenced by the number of points from each class.\n",
    "\n",
    "In the context of imbalanced data, it's important to note that GMMs (and clustering algorithms in general) are unsupervised learning methods and do not take class labels into account during the learning process. Therefore, the concept of class imbalance is somewhat less relevant for these methods than it is for supervised learning methods."
   ]
  },
  {
   "cell_type": "markdown",
   "metadata": {},
   "source": [
    "#### Gaussian Mixture Model"
   ]
  },
  {
   "cell_type": "code",
   "execution_count": 12,
   "metadata": {},
   "outputs": [],
   "source": [
    "#Gaussian Mixture Model\n",
    "from sklearn.mixture import GaussianMixture\n",
    "gmm = GaussianMixture(n_components=2, random_state=42, covariance_type='diag')\n",
    "gmm.fit(X)\n",
    "df['gmm_cluster'] = gmm.predict(X)"
   ]
  },
  {
   "cell_type": "code",
   "execution_count": 118,
   "metadata": {},
   "outputs": [
    {
     "data": {
      "text/plain": [
       "array([1, 0])"
      ]
     },
     "execution_count": 118,
     "metadata": {},
     "output_type": "execute_result"
    }
   ],
   "source": [
    "df['cluster'].unique()"
   ]
  },
  {
   "cell_type": "code",
   "execution_count": 13,
   "metadata": {},
   "outputs": [
    {
     "name": "stdout",
     "output_type": "stream",
     "text": [
      "[[195865  33468]\n",
      " [149873  70970]]\n",
      "              precision    recall  f1-score   support\n",
      "\n",
      "           0       0.57      0.85      0.68    229333\n",
      "           1       0.68      0.32      0.44    220843\n",
      "\n",
      "    accuracy                           0.59    450176\n",
      "   macro avg       0.62      0.59      0.56    450176\n",
      "weighted avg       0.62      0.59      0.56    450176\n",
      "\n",
      "0.5927348414842195\n",
      "0.5877116296096189\n"
     ]
    }
   ],
   "source": [
    "print(confusion_matrix(df['gmm_cluster'],df['result']))\n",
    "print(classification_report(df['gmm_cluster'], df['result']))\n",
    "print(accuracy_score(df['gmm_cluster'], df['result']))\n",
    "print(roc_auc_score(df['gmm_cluster'],df['result']))"
   ]
  },
  {
   "cell_type": "code",
   "execution_count": 15,
   "metadata": {},
   "outputs": [],
   "source": [
    "df_copy = df.copy()\n",
    "df_copy = df_copy.drop(['url', 'label','result','domain','domain_to_digit','cluster'], axis=1)"
   ]
  },
  {
   "cell_type": "markdown",
   "metadata": {},
   "source": [
    "#### Using Majority Voting on KMeans"
   ]
  },
  {
   "cell_type": "code",
   "execution_count": 16,
   "metadata": {},
   "outputs": [],
   "source": [
    "from scipy.stats import mode"
   ]
  },
  {
   "cell_type": "code",
   "execution_count": 17,
   "metadata": {},
   "outputs": [],
   "source": [
    "n_clusters = 2\n",
    "\n",
    "# Create multiple kmeans models\n",
    "kmeans_1 = KMeans(n_clusters=n_clusters, random_state=0,init='k-means++',algorithm='lloyd').fit(df_copy)\n",
    "kmeans_2 = KMeans(n_clusters=n_clusters, random_state=1,init='random',algorithm='elkan').fit(df_copy)\n",
    "\n",
    "kmeans_3 = KMeans(n_clusters=n_clusters, random_state=2,init='k-means++',max_iter=300,n_init=20).fit(df_copy)\n",
    "\n",
    "# Create an array where each row is a data point and each column is the prediction of a model\n",
    "cluster_runs = np.array([kmeans_1.labels_, kmeans_2.labels_, kmeans_3.labels_])\n",
    "\n",
    "# Use majority voting to find the consensus set of clusters\n",
    "consensus_cluster_labels, _ = mode(cluster_runs)\n",
    "\n"
   ]
  },
  {
   "cell_type": "code",
   "execution_count": 18,
   "metadata": {},
   "outputs": [],
   "source": [
    "df['consensus_cluster_labels'] = consensus_cluster_labels\n"
   ]
  },
  {
   "cell_type": "code",
   "execution_count": 19,
   "metadata": {},
   "outputs": [
    {
     "name": "stdout",
     "output_type": "stream",
     "text": [
      "[[160154  71308]\n",
      " [185584  33130]]\n",
      "              precision    recall  f1-score   support\n",
      "\n",
      "           0       0.46      0.69      0.55    231462\n",
      "           1       0.32      0.15      0.21    218714\n",
      "\n",
      "    accuracy                           0.43    450176\n",
      "   macro avg       0.39      0.42      0.38    450176\n",
      "weighted avg       0.39      0.43      0.38    450176\n",
      "\n",
      "0.42935207563264144\n",
      "0.421699934767365\n"
     ]
    }
   ],
   "source": [
    "print(confusion_matrix(df['consensus_cluster_labels'],df['result']))\n",
    "print(classification_report(df['consensus_cluster_labels'], df['result']))\n",
    "print(accuracy_score(df['consensus_cluster_labels'], df['result']))\n",
    "print(roc_auc_score(df['consensus_cluster_labels'],df['result']))"
   ]
  },
  {
   "cell_type": "markdown",
   "metadata": {},
   "source": [
    "Majority Voting technique is not the best technique to use, but just tried to incorporate it. It definitely underperformed compared to conventional K-Means as the Majority voting assumes that all voters (or classifiers) are equally reliable and independent. However, if the voters are too similar (e.g., using the same underlying model), their errors may be correlated, leading to suboptimal results.\n",
    " "
   ]
  },
  {
   "cell_type": "code",
   "execution_count": 20,
   "metadata": {},
   "outputs": [
    {
     "name": "stdout",
     "output_type": "stream",
     "text": [
      "<class 'pandas.core.frame.DataFrame'>\n",
      "RangeIndex: 450176 entries, 0 to 450175\n",
      "Data columns (total 7 columns):\n",
      " #   Column                Non-Null Count   Dtype\n",
      "---  ------                --------------   -----\n",
      " 0   url_length            450176 non-null  int64\n",
      " 1   number_digits         450176 non-null  int64\n",
      " 2   special_characters    450176 non-null  int64\n",
      " 3   alphabet              450176 non-null  int64\n",
      " 4   sum_special_alphabet  450176 non-null  int64\n",
      " 5   encrypted_url         450176 non-null  int32\n",
      " 6   gmm_cluster           450176 non-null  int64\n",
      "dtypes: int32(1), int64(6)\n",
      "memory usage: 22.3 MB\n"
     ]
    }
   ],
   "source": [
    "df_copy.info()"
   ]
  },
  {
   "cell_type": "code",
   "execution_count": 21,
   "metadata": {},
   "outputs": [],
   "source": [
    "df_copy.drop(['gmm_cluster'], axis=1, inplace=True)"
   ]
  },
  {
   "cell_type": "markdown",
   "metadata": {},
   "source": [
    "### GMM in a semi-supervised setting\n",
    "\n",
    "The below technique was adopted from [Scikit-learn](https://scikit-learn.org/stable/auto_examples/mixture/plot_gmm_covariances.html#sphx-glr-auto-examples-mixture-plot-gmm-covariances-py)\n",
    "\n",
    "This is basically a semi-supervised learning approach, where the clustering model remains unsupervised but the hyperparameters of the clustering model are tuned in a supervised way using the ground truth labels.\n"
   ]
  },
  {
   "cell_type": "code",
   "execution_count": null,
   "metadata": {},
   "outputs": [
    {
     "name": "stdout",
     "output_type": "stream",
     "text": [
      "(337632, 6) (112544, 6) (337632,) (112544,)\n",
      "train_accuracy_spherical: 62.685705146431616\n",
      "test_accuracy_spherical: 38.921666192777934\n",
      "train_accuracy_diag: 68.6644038479765\n",
      "test_accuracy_diag: 68.48254904748366\n",
      "train_accuracy_tied: 67.38668135721733\n",
      "test_accuracy_tied: 45.469327551890814\n",
      "train_accuracy_full: 68.29269737465643\n",
      "test_accuracy_full: 70.12457350014216\n"
     ]
    }
   ],
   "source": [
    "from sklearn.mixture import GaussianMixture\n",
    "from sklearn.model_selection import StratifiedKFold\n",
    "\n",
    "# Break up the dataset into non-overlapping training (75%) and testing\n",
    "# (25%) sets.\n",
    "skf = StratifiedKFold(n_splits=4)\n",
    "# Only take the first fold.\n",
    "X= df_copy\n",
    "y= df['result']\n",
    "train_index, test_index = next(iter(skf.split(X,y)))\n",
    "X_train = X.iloc[train_index]\n",
    "y_train = y.iloc[train_index]\n",
    "X_test = X.iloc[test_index]\n",
    "y_test = y.iloc[test_index]\n",
    "print(X_train.shape, X_test.shape, y_train.shape, y_test.shape)\n",
    "\n",
    "n_classes = len(np.unique(y_train))\n",
    "\n",
    "# Try GMMs using different types of covariances.\n",
    "estimators = {\n",
    "    cov_type: GaussianMixture(\n",
    "        n_components=n_classes, covariance_type=cov_type, max_iter=300, random_state=42\n",
    "    )\n",
    "    for cov_type in [\"spherical\", \"diag\", \"tied\", \"full\"]\n",
    "}\n",
    "\n",
    "n_estimators = len(estimators)\n",
    "\n",
    "for index, (name, estimator) in enumerate(estimators.items()):\n",
    "    # Since we have class labels for the training data, we can\n",
    "    # initialize the GMM parameters in a supervised manner.\n",
    "    estimator.means_init = np.array(\n",
    "        [X_train[y_train == i].mean(axis=0) for i in range(n_classes)]\n",
    "    )\n",
    "\n",
    "    # Train the other parameters using the EM algorithm.\n",
    "    estimator.fit(X_train)\n",
    "\n",
    "    y_train_pred = estimator.predict(X_train)\n",
    "    train_accuracy = np.mean(y_train_pred == y_train) * 100\n",
    "    print(f'train_accuracy_{name}: {train_accuracy}')\n",
    "\n",
    "\n",
    "    y_test_pred = estimator.predict(X_test)\n",
    "    test_accuracy = np.mean(y_test_pred == y_test) * 100\n",
    "    print(f'test_accuracy_{name}: {test_accuracy}')\n",
    "\n"
   ]
  },
  {
   "cell_type": "code",
   "execution_count": null,
   "metadata": {},
   "outputs": [
    {
     "name": "stdout",
     "output_type": "stream",
     "text": [
      "train_accuracy_full: 68.29269737465643\n",
      "test_accuracy_full: 70.12457350014216\n"
     ]
    }
   ],
   "source": [
    "#GMM using full covariance\n",
    "gmm = GaussianMixture(n_components=2, random_state=42, covariance_type='full',\n",
    "                      means_init=np.array([X_train[y_train == i].mean(axis=0) for i in range(n_classes)]))\n",
    "gmm.fit(X_train)\n",
    "y_train_pred = gmm.predict(X_train)\n",
    "train_accuracy = np.mean(y_train_pred == y_train) * 100\n",
    "print(f'train_accuracy_full: {train_accuracy}')\n",
    "\n",
    "y_test_pred = gmm.predict(X_test)\n",
    "test_accuracy = np.mean(y_test_pred == y_test) * 100\n",
    "print(f'test_accuracy_full: {test_accuracy}')\n"
   ]
  },
  {
   "cell_type": "code",
   "execution_count": null,
   "metadata": {},
   "outputs": [
    {
     "name": "stdout",
     "output_type": "stream",
     "text": [
      "337632 112544 337632 112544\n"
     ]
    }
   ],
   "source": [
    "print(len(X_train), len(X_test), len(y_train), len(y_test))"
   ]
  },
  {
   "cell_type": "markdown",
   "metadata": {},
   "source": [
    "### Gaussion Mixture Model with Gradiant Boosting\n",
    "\n",
    "Reference Paper:\n",
    "\n",
    "https://thesai.org/Downloads/Volume15No2/Paper_92-Enhancing_K_means_Clustering_Results_with_Gradient_Boosting.pdf"
   ]
  },
  {
   "cell_type": "markdown",
   "metadata": {},
   "source": [
    "#### Approach:\n",
    "\n",
    "Now knowing the GMM using full covariance performs better compared to others, it's performance is enhanced using Gradiant Boosting algorithm on the misclassified training examples. It works by taking the GMM predicions and splitting it according to a Split Criterion(SC).\n",
    "\n",
    "The SC method begins by calculating the Euclidean distance between each data point and the centers of all clusters. For each point x, the minimum distance from it to each center is determined and referred to as minxc. Then, minxc is divided by the distance of each centroid to the point. This yields values between 0 and 1, representing the ratio of the minimum distance from point x to cluster c to each cluster center.\n",
    "\n",
    "A threshold value between 0 and 1 is chosen to identify the misclassified data points. If any of the values calculated for data point x exceeds the chosen threshold, then x is considered misclassified. However, the point with the minimum distance to a cluster to which the point belongs is excluded from the comparison with the threshold since it will also result in 1.\n",
    "\n",
    "For instance, if a point x1 and three centers c1, c2, and c3 are given, the distance between this point and the three cluster centers is calculated, resulting in three distances: dist(x1, c1), dist(x1, c2), and dist(x1, c3). Then, the minimum distance (say dist(x1, c2)) is determined, and the SC result R of each distance can be calculated as follows:\n",
    "\n",
    "SC(x1, c1) = dist(x1, c2) / dist(x1, c1) = R (0 ≤ R ≤ 1)\n",
    "SC(x1, c2) = dist(x1, c2) / dist(x1, c2) = R (R = 1)\n",
    "SC(x1, c3) = dist(x1, c2) / dist(x1, c3) = R (0 ≤ R ≤ 1)\n",
    "If the value obtained from Eq. (2) or (4) exceeds the specified threshold, the data point x1 is considered misclassified. The minimum distance to the cluster, represented as dist(x1, c2), is excluded from the comparison according to Eq. (3), resulting in a value of 1.\n",
    "\n",
    "The SC method is a moderate technique for identifying misclassified data points in GMM. By utilizing the threshold value, the SC technique can identify misclassified points so they can be minimized, thereby improving the accuracy of the clustering algorithm.\n",
    "\n",
    "Post-processing is a technique used with clustered data of GMM to improve the accuracy and quality of the resulting clusters . In this phase, possibly misclassified labels are detected, and a corrective process is applied to obtain more accurate results. This study incorporates gradient boosting as a post-processing technique after applying the SC method.\n",
    "\n",
    "Gradient boosting is a popular machine learning method utilized for regression and classification tasks. It involves combining multiple weak models, usually decision trees, to form a powerful model that can make precise predictions. Gradient boosting is effective in handling imbalanced datasets, noisy data, and high-dimensional data.\n",
    "\n"
   ]
  },
  {
   "cell_type": "code",
   "execution_count": 24,
   "metadata": {},
   "outputs": [],
   "source": [
    "from sklearn.metrics import pairwise_distances\n",
    "\n",
    "def split_criterion_gmm(X, n_clusters, threshold=0.5):\n",
    "    # Fit GMM\n",
    "    n_classes = 2\n",
    "    gmm = GaussianMixture(n_components=2, random_state=42, covariance_type='full',\n",
    "                      means_init=np.array([df_copy[df['result'] == i].mean(axis=0) for i in range(n_classes)]))\n",
    "    gmm.fit(df_copy)\n",
    "    df_copy_pred = gmm.predict(df_copy)\n",
    "    \n",
    "    # Calculate distances from each point to each cluster center\n",
    "    distances = pairwise_distances(df_copy, gmm.means_, metric='euclidean')\n",
    "\n",
    "    # Calculate minxc for each point\n",
    "    minxc = np.min(distances, axis=1)\n",
    "\n",
    "    # Calculate SC ratio for each point and each cluster\n",
    "    sc_ratios = np.divide(minxc[:, np.newaxis], distances)\n",
    "\n",
    "    \n",
    "    # Identify misclassified points\n",
    "    misclassified_points = []\n",
    "    for i, (label, sc_ratio) in enumerate(zip(df_copy_pred, sc_ratios)):\n",
    "        # Exclude the minimum distance to the cluster it belongs to\n",
    "        sc_ratio[label] = 0\n",
    "        # Check if any SC ratio exceeds the threshold\n",
    "        if np.any(sc_ratio > threshold):\n",
    "            misclassified_points.append(i)\n",
    "\n",
    "    # Return the original GMM labels and the indices of misclassified points\n",
    "    return df_copy_pred, misclassified_points"
   ]
  },
  {
   "cell_type": "code",
   "execution_count": 25,
   "metadata": {},
   "outputs": [],
   "source": [
    "df_copy_pred, misclassified_points=split_criterion_gmm(df_copy, 2, threshold=0.5)\n"
   ]
  },
  {
   "cell_type": "code",
   "execution_count": 26,
   "metadata": {},
   "outputs": [
    {
     "name": "stdout",
     "output_type": "stream",
     "text": [
      "450176 439174\n"
     ]
    }
   ],
   "source": [
    "print(len(df_copy_pred), len(misclassified_points))"
   ]
  },
  {
   "cell_type": "code",
   "execution_count": 39,
   "metadata": {},
   "outputs": [
    {
     "data": {
      "text/plain": [
       "11002"
      ]
     },
     "execution_count": 39,
     "metadata": {},
     "output_type": "execute_result"
    }
   ],
   "source": [
    "misclassified_points_set = set(misclassified_points)\n",
    "gmm_pred_label_ind = [ind for ind, label in enumerate(df_copy_pred) if ind not in misclassified_points_set]\n",
    "\n",
    "correctly_classified_inds = gmm_pred_label_ind\n",
    "len(gmm_pred_label_ind)"
   ]
  },
  {
   "cell_type": "code",
   "execution_count": 28,
   "metadata": {},
   "outputs": [
    {
     "name": "stdout",
     "output_type": "stream",
     "text": [
      "439174 439174\n"
     ]
    }
   ],
   "source": [
    "X_test_after_split =df_copy.iloc[misclassified_points]\n",
    "y_test_after_split = df['result'].iloc[misclassified_points]\n",
    "print(len(X_test_after_split), len(y_test_after_split))"
   ]
  },
  {
   "cell_type": "code",
   "execution_count": 30,
   "metadata": {},
   "outputs": [],
   "source": [
    "from sklearn.ensemble import GradientBoostingClassifier\n",
    "\n",
    "\n",
    "# Initialize Gradient Boosting Classifier\n",
    "gbc = GradientBoostingClassifier(n_estimators=100, learning_rate=1.0,  random_state=0)\n",
    "\n",
    "# Fit the Gradient Boosting Classifier on the original features and cluster labels\n",
    "gbc.fit(df_copy,df_copy_pred )\n",
    "\n",
    "# Predict the cluster labels using Gradient Boosting Classifier\n",
    "predicted_labels = gbc.predict(X_test_after_split)\n",
    "\n",
    "\n",
    "\n"
   ]
  },
  {
   "cell_type": "code",
   "execution_count": 45,
   "metadata": {},
   "outputs": [],
   "source": [
    "X_test_after_split.index\n",
    "my_dict ={}\n",
    "my_dict = {ind: None for ind in X_test_after_split.index}\n",
    "for ind, val in zip(dict.keys(), predicted_labels):\n",
    "    my_dict[ind] = val\n",
    "        "
   ]
  },
  {
   "cell_type": "code",
   "execution_count": 31,
   "metadata": {},
   "outputs": [
    {
     "data": {
      "text/plain": [
       "439174"
      ]
     },
     "execution_count": 31,
     "metadata": {},
     "output_type": "execute_result"
    }
   ],
   "source": [
    "len(predicted_labels)"
   ]
  },
  {
   "cell_type": "code",
   "execution_count": 59,
   "metadata": {},
   "outputs": [],
   "source": [
    "df['final_result'] = df_copy_pred\n"
   ]
  },
  {
   "cell_type": "code",
   "execution_count": 62,
   "metadata": {},
   "outputs": [
    {
     "data": {
      "text/plain": [
       "0         0\n",
       "1         0\n",
       "2         0\n",
       "3         0\n",
       "4         0\n",
       "         ..\n",
       "450171    0\n",
       "450172    1\n",
       "450173    1\n",
       "450174    0\n",
       "450175    1\n",
       "Length: 439174, dtype: int64"
      ]
     },
     "execution_count": 62,
     "metadata": {},
     "output_type": "execute_result"
    }
   ],
   "source": [
    "pd.Series(my_dict)"
   ]
  },
  {
   "cell_type": "code",
   "execution_count": 63,
   "metadata": {},
   "outputs": [],
   "source": [
    "df['final_result'].update(pd.Series(my_dict))"
   ]
  },
  {
   "cell_type": "code",
   "execution_count": 64,
   "metadata": {},
   "outputs": [
    {
     "data": {
      "text/plain": [
       "0.6536710086721638"
      ]
     },
     "execution_count": 64,
     "metadata": {},
     "output_type": "execute_result"
    }
   ],
   "source": [
    "accuracy_score(df['result'],df['final_result'])"
   ]
  },
  {
   "cell_type": "code",
   "execution_count": 66,
   "metadata": {},
   "outputs": [
    {
     "name": "stdout",
     "output_type": "stream",
     "text": [
      "              precision    recall  f1-score   support\n",
      "\n",
      "           0       0.78      0.76      0.77    345738\n",
      "           1       0.27      0.29      0.28    104438\n",
      "\n",
      "    accuracy                           0.65    450176\n",
      "   macro avg       0.53      0.53      0.53    450176\n",
      "weighted avg       0.66      0.65      0.66    450176\n",
      "\n"
     ]
    }
   ],
   "source": [
    "print(classification_report(df['result'],df['final_result']))"
   ]
  },
  {
   "cell_type": "markdown",
   "metadata": {},
   "source": [
    "### Conclusion\n",
    "With the adoption of GMM with GBA increased the accuracy of predicion by 6% compared to traditional GMM clustering model and an increase in accuracy of 11% compared to K-Means Clustering."
   ]
  },
  {
   "cell_type": "markdown",
   "metadata": {},
   "source": [
    "### Further Improvements:\n",
    "\n",
    "1. By choosing a well balanced dataset GMM's performance can be improved\n",
    "2. Algorithm to encode the URLs can be made more sophasticated to respond well to the clustering algorithms."
   ]
  },
  {
   "cell_type": "code",
   "execution_count": null,
   "metadata": {},
   "outputs": [],
   "source": []
  }
 ],
 "metadata": {
  "kernelspec": {
   "display_name": "base",
   "language": "python",
   "name": "python3"
  },
  "language_info": {
   "codemirror_mode": {
    "name": "ipython",
    "version": 3
   },
   "file_extension": ".py",
   "mimetype": "text/x-python",
   "name": "python",
   "nbconvert_exporter": "python",
   "pygments_lexer": "ipython3",
   "version": "3.9.12"
  }
 },
 "nbformat": 4,
 "nbformat_minor": 2,
 "temperature": 0
}
